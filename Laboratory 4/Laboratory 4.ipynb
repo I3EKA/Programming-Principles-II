{
 "cells": [
  {
   "attachments": {},
   "cell_type": "markdown",
   "metadata": {},
   "source": [
    "## Python date\n",
    "\n",
    "1. Write a Python program to subtract five days from current date.\n",
    "\n",
    "2. Write a Python program to print yesterday, today, tomorrow.\n",
    "\n",
    "3. Write a Python program to drop microseconds from datetime.\n",
    "\n",
    "4. Write a Python program to calculate two date difference in seconds."
   ]
  },
  {
   "cell_type": "code",
   "execution_count": 6,
   "metadata": {},
   "outputs": [
    {
     "name": "stdout",
     "output_type": "stream",
     "text": [
      "2023-02-17 22:36:54.569069\n"
     ]
    }
   ],
   "source": [
    "# 1\n",
    "from datetime import *\n",
    "now_date = datetime.now()\n",
    "subtract_five_days = now_date - timedelta(days=5)\n",
    "print(subtract_five_days)\n"
   ]
  },
  {
   "cell_type": "code",
   "execution_count": 11,
   "metadata": {},
   "outputs": [
    {
     "name": "stdout",
     "output_type": "stream",
     "text": [
      "Yesterday: 21\n",
      "Today: 22\n",
      "Tomorrow: 23\n"
     ]
    }
   ],
   "source": [
    "# 2\n",
    "from datetime import *\n",
    "today_date = datetime.now()\n",
    "yesterday_date = now_date - timedelta(days=1)\n",
    "tomorrow_date = now_date + timedelta(days=1)\n",
    "print(\"Yesterday:\", yesterday_date.strftime(\"%d\"))\n",
    "print(\"Today:\", today_date.strftime(\"%d\"))\n",
    "print(\"Tomorrow:\" , tomorrow_date.strftime(\"%d\"))"
   ]
  },
  {
   "cell_type": "code",
   "execution_count": 14,
   "metadata": {},
   "outputs": [
    {
     "name": "stdout",
     "output_type": "stream",
     "text": [
      "2023-02-22 22:46:35\n"
     ]
    }
   ],
   "source": [
    "# 3\n",
    "from datetime import *\n",
    "now_date = datetime.now()\n",
    "drop_microsecond = now_date.replace(microsecond=0)\n",
    "print(drop_microsecond)\n"
   ]
  },
  {
   "cell_type": "code",
   "execution_count": 19,
   "metadata": {},
   "outputs": [
    {
     "name": "stdout",
     "output_type": "stream",
     "text": [
      "18316800.0\n"
     ]
    }
   ],
   "source": [
    "# 4\n",
    "from datetime import *\n",
    "first_date = datetime.strptime(input(), \"%Y-%m-%d %H:%M:%S\") #2023-02-22 22:46:35\n",
    "second_date = datetime.strptime(input(), \"%Y-%m-%d %H:%M:%S\") #2023-05-22 22:46:35\n",
    "print((second_date - first_date).total_seconds())\n"
   ]
  },
  {
   "attachments": {},
   "cell_type": "markdown",
   "metadata": {},
   "source": [
    "## Python iterators and generators\n",
    "\n",
    "1. Create a generator that generates the squares of numbers up to some number `N`.\n",
    "\n",
    "2. Write a program using generator to print the even numbers between 0 and `n` in comma separated form where `n` is input from console.\n",
    "\n",
    "3. Define a function with a generator which can iterate the numbers, which are divisible by 3 and 4, between a given range 0 and `n`.\n",
    "\n",
    "4. Implement a generator called `squares` to yield the square of all numbers from (a) to (b). Test it with a \"for\" loop and print each of the yielded values.\n",
    "\n",
    "5. Implement a generator that returns all numbers from (n) down to 0."
   ]
  },
  {
   "cell_type": "code",
   "execution_count": 27,
   "metadata": {},
   "outputs": [],
   "source": [
    "# 1\n",
    "n = int(input())\n",
    "square_numbers = (i**2 for i in range(1, n + 1))\n",
    "print(*square_numbers)"
   ]
  },
  {
   "cell_type": "code",
   "execution_count": 69,
   "metadata": {},
   "outputs": [
    {
     "name": "stdout",
     "output_type": "stream",
     "text": [
      "0, 2, 4\n"
     ]
    }
   ],
   "source": [
    "# 2\n",
    "n = int(input())\n",
    "even_numbers = (i for i in range(n) if i % 2 == 0)\n",
    "print(*even_numbers, sep=', ')\n"
   ]
  },
  {
   "cell_type": "code",
   "execution_count": null,
   "metadata": {},
   "outputs": [],
   "source": [
    "# 3\n",
    "n = int(input())\n",
    "\n",
    "\n",
    "def isDivisible(n):\n",
    "    for i in range(n):\n",
    "        if i % 3 == 0 and i % 4 == 0:\n",
    "            yield i\n",
    "\n",
    "\n",
    "print(*isDivisible(n))\n",
    "print(*(i for i in range(n) if i % 3 == 0 and i % 4 == 0))\n"
   ]
  },
  {
   "cell_type": "code",
   "execution_count": 70,
   "metadata": {},
   "outputs": [
    {
     "name": "stdout",
     "output_type": "stream",
     "text": [
      "25 36 49 64 81 100 121 144 169 196 225 256 289 324 361\n"
     ]
    }
   ],
   "source": [
    "# 4\n",
    "ab = input().split()\n",
    "a = int(ab[0])\n",
    "b = int(ab[1])\n",
    "\n",
    "\n",
    "def squares(a, b):\n",
    "    for i in range(a, b + 1):\n",
    "        yield i**2\n",
    "\n",
    "\n",
    "print(*squares(a, b))\n"
   ]
  },
  {
   "cell_type": "code",
   "execution_count": 71,
   "metadata": {},
   "outputs": [
    {
     "name": "stdout",
     "output_type": "stream",
     "text": [
      "5 4 3 2 1 0\n"
     ]
    }
   ],
   "source": [
    "# 5\n",
    "n = int(input())\n",
    "print(*(i for i in range(n, -1, -1)))\n"
   ]
  },
  {
   "attachments": {},
   "cell_type": "markdown",
   "metadata": {},
   "source": [
    "## Python Math library\n",
    "\n",
    "1. Write a Python program to convert degree to radian.\n",
    "```\n",
    "Input degree: 15\n",
    "Output radian: 0.261904\n",
    "```\n",
    "\n",
    "2. Write a Python program to calculate the area of a trapezoid.\n",
    "```\n",
    "Height: 5\n",
    "Base, first value: 5\n",
    "Base, second value: 6\n",
    "Expected Output: 27.5\n",
    "```\n",
    "\n",
    "3. Write a Python program to calculate the area of regular polygon.\n",
    "```\n",
    "Input number of sides: 4\n",
    "Input the length of a side: 25\n",
    "The area of the polygon is: 625\n",
    "```\n",
    "\n",
    "4. Write a Python program to calculate the area of a parallelogram. \n",
    "```\n",
    "Length of base: 5\n",
    "Height of parallelogram: 6\n",
    "Expected Output: 30.0\n",
    "```"
   ]
  },
  {
   "cell_type": "code",
   "execution_count": 73,
   "metadata": {},
   "outputs": [
    {
     "name": "stdout",
     "output_type": "stream",
     "text": [
      "Output radian: 0.261799\n"
     ]
    }
   ],
   "source": [
    "# 1\n",
    "from math import radians\n",
    "degree = int(input(\"Input degree: \"))\n",
    "radian = radians(degree)\n",
    "print(f\"Output radian: {round(radian, 6)}\")\n"
   ]
  },
  {
   "cell_type": "code",
   "execution_count": 74,
   "metadata": {},
   "outputs": [
    {
     "name": "stdout",
     "output_type": "stream",
     "text": [
      "Expected Output: 22.5\n"
     ]
    }
   ],
   "source": [
    "# 2\n",
    "height = int(input(\"Height: \"))\n",
    "bottom_base = int(input(\"Base, first value: \"))\n",
    "top_base = int(input(\"Base, second value: \"))\n",
    "area = ((bottom_base + top_base) / 2) * height\n",
    "print(f\"Expected Output: {area}\")\n"
   ]
  },
  {
   "cell_type": "code",
   "execution_count": 80,
   "metadata": {},
   "outputs": [
    {
     "name": "stdout",
     "output_type": "stream",
     "text": [
      "The area of the polygon is: 625\n"
     ]
    }
   ],
   "source": [
    "# 3\n",
    "from math import pi, tan\n",
    "number_of_sides = int(input(\"Input number of sides: \"))\n",
    "length_of_side = int(input(\"Input the length of side: \"))\n",
    "area = (number_of_sides * length_of_side**2) / (4 * tan(pi/number_of_sides))\n",
    "print(f\"The area of the polygon is: {round(area)}\")\n"
   ]
  },
  {
   "cell_type": "code",
   "execution_count": 81,
   "metadata": {},
   "outputs": [
    {
     "name": "stdout",
     "output_type": "stream",
     "text": [
      "Expected Output: 30.0\n"
     ]
    }
   ],
   "source": [
    "# 4\n",
    "length_of_base = int(input(\"Length of base: \"))\n",
    "height_of_parallelogram = int(input(\"Height of parallelogram: \"))\n",
    "area = float(length_of_base * height_of_parallelogram)\n",
    "print(f\"Expected Output: {area}\")\n"
   ]
  },
  {
   "attachments": {},
   "cell_type": "markdown",
   "metadata": {},
   "source": [
    "## Python JSON parsing\n",
    "\n",
    "Exercises to parse json data in python\n",
    "\n",
    "## Exercise 1\n",
    "> Using data file `sample-data.json`, create output that resembles the following by parsing the included JSON file.\n",
    "\n",
    "```\n",
    "Interface Status\n",
    "================================================================================\n",
    "DN                                                 Description           Speed    MTU  \n",
    "-------------------------------------------------- --------------------  ------  ------\n",
    "topology/pod-1/node-201/sys/phys-[eth1/33]                              inherit   9150 \n",
    "topology/pod-1/node-201/sys/phys-[eth1/34]                              inherit   9150 \n",
    "topology/pod-1/node-201/sys/phys-[eth1/35]                              inherit   9150 \n",
    "```"
   ]
  },
  {
   "cell_type": "code",
   "execution_count": 82,
   "metadata": {},
   "outputs": [
    {
     "name": "stdout",
     "output_type": "stream",
     "text": [
      "Interface Status\n",
      "================================================================================\n",
      "DN                                                 Description           Speed    MTU\n",
      "-------------------------------------------------- --------------------  ------  ------\n",
      "topology/pod-1/node-201/sys/phys-[eth1/33]                               inherit 9150     \n",
      "topology/pod-1/node-201/sys/phys-[eth1/34]                               inherit 9150     \n",
      "topology/pod-1/node-201/sys/phys-[eth1/35]                               inherit 9150     \n",
      "topology/pod-1/node-201/sys/phys-[eth1/36]                               inherit 9150     \n",
      "topology/pod-1/node-201/sys/phys-[eth1/1]                                inherit 9150     \n",
      "topology/pod-1/node-201/sys/phys-[eth1/2]                                inherit 9150     \n",
      "topology/pod-1/node-201/sys/phys-[eth1/3]                                inherit 9150     \n",
      "topology/pod-1/node-201/sys/phys-[eth1/4]                                inherit 9150     \n",
      "topology/pod-1/node-201/sys/phys-[eth1/5]                                inherit 9150     \n",
      "topology/pod-1/node-201/sys/phys-[eth1/6]                                inherit 9150     \n",
      "topology/pod-1/node-201/sys/phys-[eth1/7]                                inherit 9150     \n",
      "topology/pod-1/node-201/sys/phys-[eth1/8]                                inherit 9150     \n",
      "topology/pod-1/node-201/sys/phys-[eth1/9]                                inherit 9150     \n",
      "topology/pod-1/node-201/sys/phys-[eth1/10]                               inherit 9150     \n",
      "topology/pod-1/node-201/sys/phys-[eth1/11]                               inherit 9150     \n",
      "topology/pod-1/node-201/sys/phys-[eth1/12]                               inherit 9150     \n",
      "topology/pod-1/node-201/sys/phys-[eth1/13]                               inherit 9150     \n",
      "topology/pod-1/node-201/sys/phys-[eth1/14]                               inherit 9150     \n"
     ]
    }
   ],
   "source": [
    "import json\n",
    "\n",
    "f = open('sample-data.json', 'r')\n",
    "text = f.read()\n",
    "name = json.loads(text)\n",
    "print(\n",
    "    \"Interface Status\" \"\\n\"\n",
    "    \"================================================================================\" \"\\n\"\n",
    "    \"DN                                                 Description           Speed    MTU\" \"\\n\"\n",
    "    \"-------------------------------------------------- --------------------  ------  ------\")\n",
    "date = name['imdata']\n",
    "for i in date:\n",
    "    dn = i[\"l1PhysIf\"][\"attributes\"][\"dn\"]\n",
    "    description = i[\"l1PhysIf\"][\"attributes\"][\"descr\"]\n",
    "    speed = i[\"l1PhysIf\"][\"attributes\"][\"speed\"]\n",
    "    mtu = i[\"l1PhysIf\"][\"attributes\"][\"mtu\"]\n",
    "    print(\"{0:51} {1:20} {2:4} {3:9}\".format(dn, description, speed, mtu))\n"
   ]
  }
 ],
 "metadata": {
  "kernelspec": {
   "display_name": "Python 3",
   "language": "python",
   "name": "python3"
  },
  "language_info": {
   "codemirror_mode": {
    "name": "ipython",
    "version": 3
   },
   "file_extension": ".py",
   "mimetype": "text/x-python",
   "name": "python",
   "nbconvert_exporter": "python",
   "pygments_lexer": "ipython3",
   "version": "3.11.1"
  },
  "orig_nbformat": 4,
  "vscode": {
   "interpreter": {
    "hash": "de47f5c92c0ee6f12a59a5613ac5feff6aab19ddff207ba0b3964cced08c4ccc"
   }
  }
 },
 "nbformat": 4,
 "nbformat_minor": 2
}
