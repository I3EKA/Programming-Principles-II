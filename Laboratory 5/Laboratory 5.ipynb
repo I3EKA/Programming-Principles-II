{
 "cells": [
  {
   "attachments": {},
   "cell_type": "markdown",
   "metadata": {},
   "source": [
    "## Python RegEx exercises\n",
    "\n",
    "1. Write a Python program that matches a string that has an `'a'` followed by zero or more `'b'`'s.\n",
    "\n",
    "2. Write a Python program that matches a string that has an `'a'` followed by two to three `'b'`.\n",
    "\n",
    "3. Write a Python program to find sequences of lowercase letters joined with a underscore.\n",
    "\n",
    "4. Write a Python program to find the sequences of one upper case letter followed by lower case letters.\n",
    "\n",
    "5. Write a Python program that matches a string that has an `'a'` followed by anything, ending in `'b'`.\n",
    "\n",
    "6. Write a Python program to replace all occurrences of space, comma, or dot with a colon.\n",
    "\n",
    "7. Write a python program to convert snake case string to camel case string.\n",
    "\n",
    "8. Write a Python program to split a string at uppercase letters.\n",
    "\n",
    "9. Write a Python program to insert spaces between words starting with capital letters.\n",
    "\n",
    "10. Write a Python program to convert a given camel case string to snake case."
   ]
  },
  {
   "cell_type": "code",
   "execution_count": 4,
   "metadata": {},
   "outputs": [
    {
     "name": "stdout",
     "output_type": "stream",
     "text": [
      "abb ab abb\n"
     ]
    }
   ],
   "source": [
    "# 1\n",
    "from re import *\n",
    "print(*findall(r\"ab*\", input()))"
   ]
  },
  {
   "cell_type": "code",
   "execution_count": 28,
   "metadata": {},
   "outputs": [
    {
     "name": "stdout",
     "output_type": "stream",
     "text": [
      "abbb abb abb abb\n"
     ]
    }
   ],
   "source": [
    "# 2\n",
    "from re import *\n",
    "print(*findall(r'ab{2,3}', input()))"
   ]
  },
  {
   "cell_type": "code",
   "execution_count": 12,
   "metadata": {},
   "outputs": [
    {
     "name": "stdout",
     "output_type": "stream",
     "text": [
      "dafa_fdafad a_dfa fadf_fdaf\n"
     ]
    }
   ],
   "source": [
    "# 3\n",
    "from re import *\n",
    "print(*findall(r'[a-z]+_[a-z]+', input()))"
   ]
  },
  {
   "cell_type": "code",
   "execution_count": 13,
   "metadata": {},
   "outputs": [
    {
     "name": "stdout",
     "output_type": "stream",
     "text": [
      "Alfadfjla Fadfljaf\n"
     ]
    }
   ],
   "source": [
    "# 4\n",
    "from re import *\n",
    "print(*findall(r'[A-Z][a-z]+', input()))\n"
   ]
  },
  {
   "cell_type": "code",
   "execution_count": null,
   "metadata": {},
   "outputs": [],
   "source": [
    "# 5\n",
    "from re import *\n",
    "print(*findall(r'a.+b$', input()))\n"
   ]
  },
  {
   "cell_type": "code",
   "execution_count": 15,
   "metadata": {},
   "outputs": [
    {
     "name": "stdout",
     "output_type": "stream",
     "text": [
      "fdalfjad:fda::fdafdlfjjpfjad::\n"
     ]
    }
   ],
   "source": [
    "# 6\n",
    "from re import *\n",
    "print(sub(\"[,. ]\", \":\", input()))\n"
   ]
  },
  {
   "cell_type": "code",
   "execution_count": 16,
   "metadata": {},
   "outputs": [
    {
     "name": "stdout",
     "output_type": "stream",
     "text": [
      "\n"
     ]
    }
   ],
   "source": [
    "# 7\n",
    "from re import *\n",
    "print(''.join(x.capitalize() or '_' for x in input().split('_')))"
   ]
  },
  {
   "cell_type": "code",
   "execution_count": null,
   "metadata": {},
   "outputs": [],
   "source": [
    "# 8\n",
    "from re import *\n",
    "print(*findall(\"[A-Z][^A-Z]*\", input()))\n"
   ]
  },
  {
   "cell_type": "code",
   "execution_count": null,
   "metadata": {},
   "outputs": [],
   "source": [
    "# 9\n",
    "from re import *\n",
    "text = findall(\"[A-Z][a-z]*\", input())\n",
    "print(' '.join(text))\n"
   ]
  },
  {
   "cell_type": "code",
   "execution_count": 20,
   "metadata": {},
   "outputs": [
    {
     "name": "stdout",
     "output_type": "stream",
     "text": [
      "geeks_for_geeks\n"
     ]
    }
   ],
   "source": [
    "# 10\n",
    "from re import *\n",
    "text = input()\n",
    "print('_'.join(sub('([A-Z][a-z]+)', r' \\1', sub('([A-Z]+)',\n",
    "      r' \\1', text.replace('-', ' '))).split()).lower())\n"
   ]
  }
 ],
 "metadata": {
  "kernelspec": {
   "display_name": "Python 3",
   "language": "python",
   "name": "python3"
  },
  "language_info": {
   "codemirror_mode": {
    "name": "ipython",
    "version": 3
   },
   "file_extension": ".py",
   "mimetype": "text/x-python",
   "name": "python",
   "nbconvert_exporter": "python",
   "pygments_lexer": "ipython3",
   "version": "3.11.1"
  },
  "orig_nbformat": 4,
  "vscode": {
   "interpreter": {
    "hash": "de47f5c92c0ee6f12a59a5613ac5feff6aab19ddff207ba0b3964cced08c4ccc"
   }
  }
 },
 "nbformat": 4,
 "nbformat_minor": 2
}
