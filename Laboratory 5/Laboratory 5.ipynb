{
 "cells": [
  {
   "attachments": {},
   "cell_type": "markdown",
   "metadata": {},
   "source": [
    "## Python RegEx exercises\n",
    "\n",
    "1. Write a Python program that matches a string that has an `'a'` followed by zero or more `'b'`'s.\n",
    "\n",
    "2. Write a Python program that matches a string that has an `'a'` followed by two to three `'b'`.\n",
    "\n",
    "3. Write a Python program to find sequences of lowercase letters joined with a underscore.\n",
    "\n",
    "4. Write a Python program to find the sequences of one upper case letter followed by lower case letters.\n",
    "\n",
    "5. Write a Python program that matches a string that has an `'a'` followed by anything, ending in `'b'`.\n",
    "\n",
    "6. Write a Python program to replace all occurrences of space, comma, or dot with a colon.\n",
    "\n",
    "7. Write a python program to convert snake case string to camel case string.\n",
    "\n",
    "8. Write a Python program to split a string at uppercase letters.\n",
    "\n",
    "9. Write a Python program to insert spaces between words starting with capital letters.\n",
    "\n",
    "10. Write a Python program to convert a given camel case string to snake case."
   ]
  },
  {
   "cell_type": "code",
   "execution_count": 4,
   "metadata": {},
   "outputs": [
    {
     "name": "stdout",
     "output_type": "stream",
     "text": [
      "abb ab abb\n"
     ]
    }
   ],
   "source": [
    "# 1\n",
    "from re import *\n",
    "text = input()\n",
    "pattern = r'ab*'\n",
    "print(*findall(pattern, text))\n"
   ]
  },
  {
   "cell_type": "code",
   "execution_count": 47,
   "metadata": {},
   "outputs": [
    {
     "name": "stdout",
     "output_type": "stream",
     "text": [
      "abbb\n"
     ]
    }
   ],
   "source": [
    "# 2\n",
    "from re import *\n",
    "text = input()\n",
    "pattern = r'ab{2,3}'\n",
    "print(*findall(text, pattern))\n"
   ]
  },
  {
   "cell_type": "code",
   "execution_count": 46,
   "metadata": {},
   "outputs": [
    {
     "name": "stdout",
     "output_type": "stream",
     "text": [
      "afladkj_fdafaldfj da_fad f_f\n"
     ]
    }
   ],
   "source": [
    "# 3\n",
    "from re import *\n",
    "text = input()\n",
    "pattern = r'[a-z]+_[a-z]+'\n",
    "print(*findall(pattern, text))\n"
   ]
  },
  {
   "cell_type": "code",
   "execution_count": 13,
   "metadata": {},
   "outputs": [
    {
     "name": "stdout",
     "output_type": "stream",
     "text": [
      "Alfadfjla Fadfljaf\n"
     ]
    }
   ],
   "source": [
    "# 4\n",
    "from re import *\n",
    "text = input()\n",
    "pattern = r'[A-Z][a-z]+'\n",
    "print(*findall(text, pattern))\n"
   ]
  },
  {
   "cell_type": "code",
   "execution_count": 48,
   "metadata": {},
   "outputs": [
    {
     "name": "stdout",
     "output_type": "stream",
     "text": [
      "abbbb abasfab alfj0e4b\n"
     ]
    }
   ],
   "source": [
    "# 5\n",
    "from re import *\n",
    "text = input().split()\n",
    "result = []\n",
    "for i in text:\n",
    "    if match(r'a.*b$', i):\n",
    "        result.append(i)\n",
    "print(*result)"
   ]
  },
  {
   "cell_type": "code",
   "execution_count": 75,
   "metadata": {},
   "outputs": [
    {
     "name": "stdout",
     "output_type": "stream",
     "text": [
      "faldfjakld:fjladjfa:dfjadj:flakdjfajdld:fad:falf:adf:::fdaljflkadjf::fadlfk;:dsafa:ad:f:adfadlf\n"
     ]
    }
   ],
   "source": [
    "# 6\n",
    "from re import *\n",
    "text = input()\n",
    "pattern, pattern1 = r'[,. ]', r':'\n",
    "print(sub(pattern, pattern1, text)) \n"
   ]
  },
  {
   "cell_type": "code",
   "execution_count": 81,
   "metadata": {},
   "outputs": [
    {
     "name": "stdout",
     "output_type": "stream",
     "text": [
      "geeksForGeeks\n"
     ]
    }
   ],
   "source": [
    "# 7\n",
    "from re import *\n",
    "snake_string = input().split('_')\n",
    "print((snake_string[0] + ''.join(x.title() for x in snake_string[1:])))\n"
   ]
  },
  {
   "cell_type": "code",
   "execution_count": 70,
   "metadata": {},
   "outputs": [
    {
     "name": "stdout",
     "output_type": "stream",
     "text": [
      "This Is A String With Uppercase Letters\n"
     ]
    }
   ],
   "source": [
    "# 8\n",
    "from re import *\n",
    "text = input()\n",
    "pattern = r'[A-Z][^A-Z]*'\n",
    "print(*findall(pattern, text))\n"
   ]
  },
  {
   "cell_type": "code",
   "execution_count": 74,
   "metadata": {},
   "outputs": [
    {
     "name": "stdout",
     "output_type": "stream",
     "text": [
      "This Is Camel Case Text\n"
     ]
    }
   ],
   "source": [
    "# 9\n",
    "from re import *\n",
    "text = input()\n",
    "pattern = r\"(?<!^)(?=[A-Z])\"\n",
    "print(sub(pattern, ' ', text))\n",
    "    "
   ]
  },
  {
   "cell_type": "code",
   "execution_count": 108,
   "metadata": {},
   "outputs": [
    {
     "name": "stdout",
     "output_type": "stream",
     "text": [
      "geeks_for_geeks\n"
     ]
    }
   ],
   "source": [
    "# 10\n",
    "from re import *\n",
    "string = input()\n",
    "snake_case_string = sub('([A-Z])', r'_\\1', string).lower()\n",
    "if snake_case_string[0] == '_':\n",
    "    snake_case_string = snake_case_string[1:]\n",
    "print(snake_case_string)\n"
   ]
  }
 ],
 "metadata": {
  "kernelspec": {
   "display_name": "Python 3",
   "language": "python",
   "name": "python3"
  },
  "language_info": {
   "codemirror_mode": {
    "name": "ipython",
    "version": 3
   },
   "file_extension": ".py",
   "mimetype": "text/x-python",
   "name": "python",
   "nbconvert_exporter": "python",
   "pygments_lexer": "ipython3",
   "version": "3.11.1"
  },
  "orig_nbformat": 4,
  "vscode": {
   "interpreter": {
    "hash": "de47f5c92c0ee6f12a59a5613ac5feff6aab19ddff207ba0b3964cced08c4ccc"
   }
  }
 },
 "nbformat": 4,
 "nbformat_minor": 2
}
