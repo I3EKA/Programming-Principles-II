{
  "cells": [
    {
      "attachments": {},
      "cell_type": "markdown",
      "id": "d76b312f",
      "metadata": {},
      "source": [
        "# Python Classes\n",
        "\n",
        "1. Define a class which has at least two methods:\n",
        "`getString`: to get a string from console input\n",
        "`printString`: to print the string in upper case.\n",
        "\n",
        "2. Define a class named `Shape` and its subclass `Square`. The `Square` class has an `init` function which takes a `length` as argument. Both classes have a `area` function which can print the area of the shape where Shape's area is 0 by default.\n",
        "\n",
        "3. Define a class named `Rectangle` which inherits from `Shape` class from task 2. Class instance can be constructed by a `length` and `width`. The `Rectangle` class has a method which can compute the `area`.\n",
        "\n",
        "4. Write the definition of a Point class. Objects from this class should have a\n",
        "    - a method `show` to display the coordinates of the point\n",
        "    - a method `move` to change these coordinates\n",
        "    - a method `dist` that computes the distance between 2 points\n",
        "\n",
        "5. Create a bank account class that has attributes `owner`, `balance` and two methods `deposit` and `withdraw`. Withdrawals may not exceed the available balance. Instantiate your class, make several deposits and withdrawals, and test to make sure the account can't be overdrawn.\n",
        "```python\n",
        "class Account:\n",
        "    pass\n",
        "```\n",
        "\n",
        "6. Write a program which can filter prime numbers in a list by using `filter` function.\n",
        "Note: Use `lambda` to define anonymous functions."
      ]
    },
    {
      "attachments": {},
      "cell_type": "markdown",
      "id": "2804b435",
      "metadata": {},
      "source": [
        "#### Bank Account"
      ]
    },
    {
      "cell_type": "code",
      "execution_count": 8,
      "id": "809fe587",
      "metadata": {},
      "outputs": [
        {
          "name": "stdout",
          "output_type": "stream",
          "text": [
            "Owner of an account is: Bexultan\n",
            "Account balance is: 1000\n",
            "Deposit!!\n",
            "Withdraw accepted\n",
            "1030\n"
          ]
        }
      ],
      "source": [
        "class Account():\n",
        "    owner = \"\"\n",
        "    balance = 0\n",
        "\n",
        "    def __init__(self, owner, balance):\n",
        "        self.owner = owner\n",
        "        self.balance = balance\n",
        "\n",
        "    def __str__(self):\n",
        "        return f\"Owner of an account is: {self.owner}\\nAccount balance is: {self.balance}\"\n",
        "\n",
        "    def deposit(self, amount):\n",
        "        self.balance += amount\n",
        "        return \"Deposit!!\"\n",
        "\n",
        "    def withdraw(self, amount):\n",
        "        if (amount <= self.balance):\n",
        "            self.balance -= amount\n",
        "            return \"Withdraw accepted\"\n",
        "        else:\n",
        "            return \"Withdraw can not be accepted\"\n",
        "\n",
        "\n",
        "acc1 = Account(\"Bexultan\", 1000)\n",
        "print(acc1)\n",
        "\n",
        "print(acc1.deposit(50))\n",
        "print(acc1.withdraw(20))\n",
        "print(acc1.balance)\n"
      ]
    },
    {
      "attachments": {},
      "cell_type": "markdown",
      "id": "81e48cd6",
      "metadata": {},
      "source": [
        "#### Filter Prime"
      ]
    },
    {
      "cell_type": "code",
      "execution_count": 9,
      "id": "3e8d2c87",
      "metadata": {},
      "outputs": [
        {
          "name": "stdout",
          "output_type": "stream",
          "text": [
            "[2, 3, 5, 7]\n"
          ]
        }
      ],
      "source": [
        "class Filter_prime():\n",
        "    def isPrime(self, num):\n",
        "        if (num < 2):\n",
        "            return False\n",
        "        else:\n",
        "            for i in range(2, num):\n",
        "                if (num % i == 0):\n",
        "                    return False\n",
        "        return True\n",
        "\n",
        "    def filter_primes(self, listofnums):\n",
        "        return filter(lambda x: self.isPrime(x), listofnums)\n",
        "\n",
        "\n",
        "prime_filter = Filter_prime()\n",
        "nums = [1, 2, 3, 4, 5, 6, 7, 8, 9, 10]\n",
        "prime_numbers = list(prime_filter.filter_primes(nums))\n",
        "print(prime_numbers)\n"
      ]
    },
    {
      "attachments": {},
      "cell_type": "markdown",
      "id": "7116a706",
      "metadata": {},
      "source": [
        "#### Getting and Printing"
      ]
    },
    {
      "cell_type": "code",
      "execution_count": 10,
      "id": "a980091b",
      "metadata": {},
      "outputs": [
        {
          "name": "stdout",
          "output_type": "stream",
          "text": [
            "BEXULTAN\n"
          ]
        }
      ],
      "source": [
        "class String:\n",
        "    def getString(self):\n",
        "        self.userInput = input()\n",
        "\n",
        "    def printString(self):\n",
        "        print(self.userInput.upper())\n",
        "\n",
        "\n",
        "string = String()\n",
        "string.getString()\n",
        "string.printString()\n"
      ]
    },
    {
      "attachments": {},
      "cell_type": "markdown",
      "id": "e7a75f55",
      "metadata": {},
      "source": [
        "#### Points"
      ]
    },
    {
      "cell_type": "code",
      "execution_count": 11,
      "id": "8f9bbba2",
      "metadata": {},
      "outputs": [
        {
          "name": "stdout",
          "output_type": "stream",
          "text": [
            "(5, 4)\n",
            "(6, 5)\n",
            "(3.0, 1.0)\n"
          ]
        }
      ],
      "source": [
        "import math\n",
        "\n",
        "\n",
        "class Point():\n",
        "    def __init__(self, x, y):\n",
        "        self.x = x\n",
        "        self.y = y\n",
        "\n",
        "    def show(self):\n",
        "        return self.x, self.y\n",
        "\n",
        "    def move(self, x1, y1):\n",
        "        self.x += x1\n",
        "        self.y += y1\n",
        "\n",
        "    def dist(self, p2):\n",
        "        newx = math.sqrt((p2.x - self.x) * (p2.x - self.x))\n",
        "        newy = math.sqrt((p2.y - self.y) * (p2.y - self.y))\n",
        "        return newx, newy\n",
        "\n",
        "\n",
        "p1 = Point(5, 4)\n",
        "p2 = Point(3, 4)\n",
        "\n",
        "print(p1.show())\n",
        "p1.move(1, 1)\n",
        "print(p1.show())\n",
        "print(p1.dist(p2))\n"
      ]
    },
    {
      "attachments": {},
      "cell_type": "markdown",
      "id": "3dc20a8d",
      "metadata": {},
      "source": [
        "#### Rectangle"
      ]
    },
    {
      "cell_type": "code",
      "execution_count": 17,
      "id": "4761c776",
      "metadata": {},
      "outputs": [
        {
          "name": "stdout",
          "output_type": "stream",
          "text": [
            "81\n",
            "0\n"
          ]
        }
      ],
      "source": [
        "class Shape():\n",
        "    def __init__(self):\n",
        "        pass\n",
        "\n",
        "    def area(self, length, width):\n",
        "        return 0\n",
        "\n",
        "\n",
        "class Rectangle(Shape):\n",
        "    def __init__(self, length=0, width=0):\n",
        "        Shape.__init__(self)\n",
        "        self.length = length\n",
        "        self.width = width\n",
        "\n",
        "    def area(self):\n",
        "        return self.length * self.width\n",
        "\n",
        "\n",
        "l = int(input())\n",
        "w = int(input())\n",
        "r = Rectangle(l, w)\n",
        "print(r.area())\n",
        "\n",
        "print(Rectangle().area())\n"
      ]
    },
    {
      "attachments": {},
      "cell_type": "markdown",
      "id": "6dc096dd",
      "metadata": {},
      "source": [
        "#### Square"
      ]
    },
    {
      "cell_type": "code",
      "execution_count": null,
      "id": "1ada81bc",
      "metadata": {},
      "outputs": [],
      "source": [
        "class Shape():\n",
        "    def __init__(self) -> None:\n",
        "        pass\n",
        "\n",
        "    def area(self):\n",
        "        return 0\n",
        "\n",
        "\n",
        "class Square(Shape):\n",
        "    def __init__(self, length=0):\n",
        "        Shape.__init__(self)\n",
        "        self.length = length\n",
        "\n",
        "    def area(self):\n",
        "        return self.length * self.length\n",
        "\n",
        "\n",
        "x = int(input())\n",
        "s = Square(x)\n",
        "print(s.area())\n",
        "\n",
        "print(Square().area())\n"
      ]
    },
    {
      "attachments": {},
      "cell_type": "markdown",
      "id": "c00b701b",
      "metadata": {},
      "source": [
        "# Python Function\n",
        "\n",
        "1. A recipe you are reading states how many grams you need for the ingredient. Unfortunately, your store only sells items in ounces. Create a function to convert grams to ounces. \n",
        "`ounces = 28.3495231 * grams`\n",
        "\n",
        "2. Read in a Fahrenheit temperature. Calculate and display the equivalent centigrade temperature. The following formula is used for the conversion:\n",
        "`C = (5 / 9) * (F – 32)`\n",
        "\n",
        "3. Write a program to solve a classic puzzle: \n",
        "We count 35 heads and 94 legs among the chickens and rabbits in a farm. How many rabbits and how many chickens do we have?\n",
        "`create function: solve(numheads, numlegs):`\n",
        "\n",
        "4. You are given list of numbers separated by spaces. Write a function `filter_prime` which will take list of numbers as an agrument and returns only prime numbers from the list.\n",
        "\n",
        "5. Write a function that accepts string from user and print all permutations of that string.\n",
        "\n",
        "6. Write a function that accepts string from user, return a sentence with the words reversed.\n",
        "`We are ready -> ready are We`\n",
        "\n",
        "7. Given a list of ints, return True if the array contains a 3 next to a 3 somewhere.\n",
        "```python\n",
        "def has_33(nums):\n",
        "    pass\n",
        "\n",
        "has_33([1, 3, 3]) → True\n",
        "has_33([1, 3, 1, 3]) → False\n",
        "has_33([3, 1, 3]) → False\n",
        "```\n",
        "\n",
        "8. Write a function that takes in a list of integers and returns True if it contains `007` in order\n",
        "```python\n",
        "def spy_game(nums):\n",
        "    pass\n",
        "\n",
        "spy_game([1,2,4,0,0,7,5]) --> True\n",
        "spy_game([1,0,2,4,0,5,7]) --> True\n",
        "spy_game([1,7,2,0,4,5,0]) --> False\n",
        "```\n",
        "9. Write a function that computes the volume of a sphere given its radius.\n",
        "\n",
        "10. Write a Python function that takes a list and returns a new list with unique elements of the first list. Note: don't use collection `set`.\n",
        "\n",
        "11. Write a Python function that checks whether a word or phrase is `palindrome` or not. Note: A palindrome is word, phrase, or sequence that reads the same backward as forward, e.g., madam\n",
        "\n",
        "12. Define a functino `histogram()` that takes a list of integers and prints a histogram to the screen. For example, `histogram([4, 9, 7])` should print the following:\n",
        "```\n",
        "****\n",
        "*********\n",
        "*******\n",
        "```\n",
        "\n",
        "13. Write a program able to play the `\"Guess the number\"` - game, where the number to be guessed is randomly chosen between 1 and 20. This is how it should work when run in a terminal:\n",
        "``` \n",
        "Hello! What is your name?\n",
        "KBTU\n",
        "\n",
        "Well, KBTU, I am thinking of a number between 1 and 20.\n",
        "Take a guess.\n",
        "12\n",
        "\n",
        "Your guess is too low.\n",
        "Take a guess.\n",
        "16\n",
        "\n",
        "Your guess is too low.\n",
        "Take a guess.\n",
        "19\n",
        "\n",
        "Good job, KBTU! You guessed my number in 3 guesses!\n",
        "```\n",
        "\n",
        "14. Create a python file and import some of the functions from the above 13 tasks and try to use them."
      ]
    },
    {
      "attachments": {},
      "cell_type": "markdown",
      "id": "ee847011",
      "metadata": {},
      "source": [
        "#### Centigrade"
      ]
    },
    {
      "cell_type": "code",
      "execution_count": 30,
      "id": "d33fdbf0",
      "metadata": {},
      "outputs": [
        {
          "name": "stdout",
          "output_type": "stream",
          "text": [
            "163.88888888888889\n"
          ]
        }
      ],
      "source": [
        "def converter(F):\n",
        "    C = (5 / 9) * (F - 32)\n",
        "    return C\n",
        "print(converter(327))"
      ]
    },
    {
      "attachments": {},
      "cell_type": "markdown",
      "id": "4c49e955",
      "metadata": {},
      "source": [
        "#### Filter Primes"
      ]
    },
    {
      "cell_type": "code",
      "execution_count": 28,
      "id": "df8e0c47",
      "metadata": {},
      "outputs": [
        {
          "name": "stdout",
          "output_type": "stream",
          "text": [
            "[2, 3, 5, 7]\n"
          ]
        }
      ],
      "source": [
        "def filter_prime(my_list):\n",
        "    l = []\n",
        "    for i in my_list:\n",
        "        cnt = 0\n",
        "        if (i == 2):\n",
        "            l.append(i)\n",
        "            continue\n",
        "        elif (i == 1):\n",
        "            continue\n",
        "        for j in range(2, i):\n",
        "            if (i % j == 0):\n",
        "                cnt += 1\n",
        "        if (cnt == 0):\n",
        "            l.append(i)\n",
        "    return l\n",
        "my_list = [1, 2, 3, 4, 5, 6, 7, 8, 9, 10]\n",
        "print(filter_prime(my_list))"
      ]
    },
    {
      "attachments": {},
      "cell_type": "markdown",
      "id": "4446a765",
      "metadata": {},
      "source": [
        "#### Gram too Unce"
      ]
    },
    {
      "cell_type": "code",
      "execution_count": 26,
      "id": "b00a61f1",
      "metadata": {},
      "outputs": [
        {
          "name": "stdout",
          "output_type": "stream",
          "text": [
            "6633.7884054\n"
          ]
        }
      ],
      "source": [
        "def converter(grams):\n",
        "    ounces = 28.3495231 * grams\n",
        "    return ounces\n",
        "print(converter(234))\n"
      ]
    },
    {
      "attachments": {},
      "cell_type": "markdown",
      "id": "38ad66a3",
      "metadata": {},
      "source": [
        "#### Guess"
      ]
    },
    {
      "cell_type": "code",
      "execution_count": 18,
      "id": "fda405a8",
      "metadata": {},
      "outputs": [
        {
          "name": "stdout",
          "output_type": "stream",
          "text": [
            "\n",
            "Well, 23, I am thinking of a number between 1 and 20.\n",
            "\n",
            "Your guess is too big.\n",
            "\n",
            "Your guess is too low.\n",
            "\n",
            "Your guess is too low.\n",
            "\n",
            "Your guess is too big.\n",
            "\n",
            "Your guess is too low.\n",
            "\n",
            "Your guess is too low.\n"
          ]
        },
        {
          "ename": "ValueError",
          "evalue": "invalid literal for int() with base 10: ''",
          "output_type": "error",
          "traceback": [
            "\u001b[1;31m---------------------------------------------------------------------------\u001b[0m",
            "\u001b[1;31mValueError\u001b[0m                                Traceback (most recent call last)",
            "Cell \u001b[1;32mIn[18], line 19\u001b[0m\n\u001b[0;32m     14\u001b[0m             \u001b[39mprint\u001b[39m(\u001b[39m\"\u001b[39m\u001b[39m\\n\u001b[39;00m\u001b[39mYour guess is too big.\u001b[39m\u001b[39m\"\u001b[39m)\n\u001b[0;32m     16\u001b[0m     \u001b[39mprint\u001b[39m(\u001b[39mf\u001b[39m\u001b[39m\"\u001b[39m\u001b[39mGood job, \u001b[39m\u001b[39m{\u001b[39;00mname\u001b[39m}\u001b[39;00m\u001b[39m! You guessed my number in \u001b[39m\u001b[39m{\u001b[39;00mtries\u001b[39m}\u001b[39;00m\u001b[39m guesses!\u001b[39m\u001b[39m\"\u001b[39m)\n\u001b[1;32m---> 19\u001b[0m guessGame()\n",
            "Cell \u001b[1;32mIn[18], line 9\u001b[0m, in \u001b[0;36mguessGame\u001b[1;34m()\u001b[0m\n\u001b[0;32m      7\u001b[0m \u001b[39mprint\u001b[39m(\u001b[39mf\u001b[39m\u001b[39m\"\u001b[39m\u001b[39m\\n\u001b[39;00m\u001b[39mWell, \u001b[39m\u001b[39m{\u001b[39;00mname\u001b[39m}\u001b[39;00m\u001b[39m, I am thinking of a number between 1 and 20.\u001b[39m\u001b[39m\"\u001b[39m)\n\u001b[0;32m      8\u001b[0m \u001b[39mwhile\u001b[39;00m (num \u001b[39m!=\u001b[39m guessNumber):\n\u001b[1;32m----> 9\u001b[0m     num \u001b[39m=\u001b[39m \u001b[39mint\u001b[39;49m(\u001b[39minput\u001b[39;49m(\u001b[39m\"\u001b[39;49m\u001b[39mTake a guess\u001b[39;49m\u001b[39m\\n\u001b[39;49;00m\u001b[39m\"\u001b[39;49m))\n\u001b[0;32m     10\u001b[0m     tries \u001b[39m+\u001b[39m\u001b[39m=\u001b[39m \u001b[39m1\u001b[39m\n\u001b[0;32m     11\u001b[0m     \u001b[39mif\u001b[39;00m (num \u001b[39m<\u001b[39m guessNumber):\n",
            "\u001b[1;31mValueError\u001b[0m: invalid literal for int() with base 10: ''"
          ]
        }
      ],
      "source": [
        "import random\n",
        "    \n",
        "\n",
        "def guessGame():\n",
        "    guessNumber = random.randint(1, 20)\n",
        "    tries = 0\n",
        "    num = 0\n",
        "    name = input(\"Hello! What is your name?\\n\")\n",
        "    print(f\"\\nWell, {name}, I am thinking of a number between 1 and 20.\")\n",
        "    while (num != guessNumber):\n",
        "        num = int(input(\"Take a guess\\n\"))\n",
        "        tries += 1\n",
        "        if (num < guessNumber):\n",
        "            print(\"\\nYour guess is too low.\")\n",
        "        elif (num > guessNumber):\n",
        "            print(\"\\nYour guess is too big.\")\n",
        "\n",
        "    print(f\"Good job, {name}! You guessed my number in {tries} guesses!\")\n",
        "\n",
        "\n",
        "guessGame()\n"
      ]
    },
    {
      "attachments": {},
      "cell_type": "markdown",
      "id": "3d94d814",
      "metadata": {},
      "source": [
        "#### Has 33"
      ]
    },
    {
      "cell_type": "code",
      "execution_count": 24,
      "id": "94313f0f",
      "metadata": {},
      "outputs": [
        {
          "name": "stdout",
          "output_type": "stream",
          "text": [
            "True\n"
          ]
        }
      ],
      "source": [
        "def has_33(nums):\n",
        "    for i in range(len(nums) - 1):\n",
        "        if (nums[i] == nums[i+1] == 3):\n",
        "            return True\n",
        "    return False\n",
        "\n",
        "\n",
        "print(has_33([1, 3, 3]))\n"
      ]
    },
    {
      "attachments": {},
      "cell_type": "markdown",
      "id": "8195cf98",
      "metadata": {},
      "source": [
        "#### Histogram"
      ]
    },
    {
      "cell_type": "code",
      "execution_count": 22,
      "id": "62288aff",
      "metadata": {},
      "outputs": [
        {
          "name": "stdout",
          "output_type": "stream",
          "text": [
            "****\n",
            "*******\n",
            "*********\n"
          ]
        }
      ],
      "source": [
        "def histogram(my_list):\n",
        "    for i in my_list:\n",
        "        for j in range(i):\n",
        "            print(\"*\", end=\"\")\n",
        "        print()\n",
        "\n",
        "\n",
        "histogram([4, 7, 9])\n"
      ]
    },
    {
      "attachments": {},
      "cell_type": "markdown",
      "id": "a7b39354",
      "metadata": {},
      "source": [
        "#### Import"
      ]
    },
    {
      "cell_type": "code",
      "execution_count": 5,
      "id": "4a5b7c8a",
      "metadata": {},
      "outputs": [
        {
          "ename": "ModuleNotFoundError",
          "evalue": "No module named 'Guess'",
          "output_type": "error",
          "traceback": [
            "\u001b[1;31m---------------------------------------------------------------------------\u001b[0m",
            "\u001b[1;31mModuleNotFoundError\u001b[0m                       Traceback (most recent call last)",
            "Cell \u001b[1;32mIn[5], line 1\u001b[0m\n\u001b[1;32m----> 1\u001b[0m \u001b[39mimport\u001b[39;00m \u001b[39mGuess\u001b[39;00m\n\u001b[0;32m      2\u001b[0m \u001b[39mfrom\u001b[39;00m \u001b[39mLaboratory_3\u001b[39;00m\u001b[39m.\u001b[39;00m\u001b[39mPython_Functions\u001b[39;00m\u001b[39m.\u001b[39;00m\u001b[39mGuess\u001b[39;00m \u001b[39mimport\u001b[39;00m guessGame\n\u001b[0;32m      4\u001b[0m guessGame()\n",
            "\u001b[1;31mModuleNotFoundError\u001b[0m: No module named 'Guess'"
          ]
        }
      ],
      "source": [
        "import Guess\n",
        "from Laboratory_3.Python_Functions.Guess import guessGame\n",
        "\n",
        "guessGame()\n"
      ]
    },
    {
      "attachments": {},
      "cell_type": "markdown",
      "id": "eb560221",
      "metadata": {},
      "source": [
        "#### Palindrome"
      ]
    },
    {
      "cell_type": "code",
      "execution_count": 7,
      "id": "ad7853a8",
      "metadata": {},
      "outputs": [
        {
          "name": "stdout",
          "output_type": "stream",
          "text": [
            "True\n"
          ]
        }
      ],
      "source": [
        "def palindrome(string):\n",
        "    s = string[::-1]\n",
        "    if (s == string):\n",
        "        return True\n",
        "    return False\n",
        "print(palindrome('abba'))"
      ]
    },
    {
      "attachments": {},
      "cell_type": "markdown",
      "id": "23b0aed5",
      "metadata": {},
      "source": [
        "#### Permutation so fastring"
      ]
    },
    {
      "cell_type": "code",
      "execution_count": 8,
      "id": "28b08145",
      "metadata": {},
      "outputs": [
        {
          "name": "stdout",
          "output_type": "stream",
          "text": [
            "abc acb bac bca cab cba\n"
          ]
        }
      ],
      "source": [
        "import itertools\n",
        "\n",
        "\n",
        "def permutations(string):\n",
        "    perms = [''.join(p) for p in itertools.permutations(string)]\n",
        "    print(*perms, sep=' ')\n",
        "\n",
        "\n",
        "permutations(\"abc\")\n"
      ]
    },
    {
      "attachments": {},
      "cell_type": "markdown",
      "id": "6edd91dd",
      "metadata": {},
      "source": [
        "#### Rabits and Chikens"
      ]
    },
    {
      "cell_type": "code",
      "execution_count": 9,
      "id": "5b3939e8",
      "metadata": {},
      "outputs": [
        {
          "name": "stdout",
          "output_type": "stream",
          "text": [
            "Rabits: 12\n",
            "Chikens: 23\n"
          ]
        }
      ],
      "source": [
        "def solve(numheads, numlegs):\n",
        "    chikens = (numlegs - (4 * numheads)) / -2\n",
        "    rabits = numheads - chikens\n",
        "    return f\"Rabits: {int(rabits)}\\nChikens: {int(chikens)}\"\n",
        "\n",
        "\n",
        "print(solve(35, 94))\n"
      ]
    },
    {
      "attachments": {},
      "cell_type": "markdown",
      "id": "15934f44",
      "metadata": {},
      "source": [
        "#### Reverse Sentence"
      ]
    },
    {
      "cell_type": "code",
      "execution_count": 10,
      "id": "0f7b1ebe",
      "metadata": {},
      "outputs": [
        {
          "name": "stdout",
          "output_type": "stream",
          "text": [
            "ready are We "
          ]
        }
      ],
      "source": [
        "def reverseSentence(s):\n",
        "    s = s.split(\" \")\n",
        "    l = list(s)\n",
        "    l.reverse()\n",
        "    for i in l:\n",
        "        print(i, end=' ')\n",
        "\n",
        "\n",
        "reverseSentence(\"We are ready\")\n"
      ]
    },
    {
      "attachments": {},
      "cell_type": "markdown",
      "id": "84dd7457",
      "metadata": {},
      "source": [
        "#### Unique"
      ]
    },
    {
      "cell_type": "code",
      "execution_count": 11,
      "id": "48d88ead",
      "metadata": {},
      "outputs": [
        {
          "name": "stdout",
          "output_type": "stream",
          "text": [
            "[3, 4, 5]\n"
          ]
        }
      ],
      "source": [
        "def unique(my_list):\n",
        "    d = {}\n",
        "    l = []\n",
        "    for i in my_list:\n",
        "        if (i not in d):\n",
        "            d[i] = 1\n",
        "        else:\n",
        "            d[i] += 1\n",
        "\n",
        "    for x, y in d.items():\n",
        "        if (y == 1):\n",
        "            l.append(x)\n",
        "    return l\n",
        "\n",
        "\n",
        "print(unique([1, 1, 2, 3, 2, 4, 1, 5]))\n"
      ]
    },
    {
      "attachments": {},
      "cell_type": "markdown",
      "id": "341608d4",
      "metadata": {},
      "source": [
        "### Volume"
      ]
    },
    {
      "cell_type": "code",
      "execution_count": 12,
      "id": "2eb9ac87",
      "metadata": {},
      "outputs": [
        {
          "name": "stdout",
          "output_type": "stream",
          "text": [
            "40458259.44\n"
          ]
        }
      ],
      "source": [
        "def volume(r):\n",
        "    return (4/3) * 3.14 * r**3\n",
        "\n",
        "\n",
        "print(volume(213))\n"
      ]
    },
    {
      "attachments": {},
      "cell_type": "markdown",
      "id": "b5fd6c7e",
      "metadata": {},
      "source": [
        "# Python Function\n",
        "\n",
        "```python\n",
        "# Dictionary of movies\n",
        "\n",
        "movies = [\n",
        "{\n",
        "\"name\": \"Usual Suspects\", \n",
        "\"imdb\": 7.0,\n",
        "\"category\": \"Thriller\"\n",
        "},\n",
        "{\n",
        "\"name\": \"Hitman\",\n",
        "\"imdb\": 6.3,\n",
        "\"category\": \"Action\"\n",
        "},\n",
        "{\n",
        "\"name\": \"Dark Knight\",\n",
        "\"imdb\": 9.0,\n",
        "\"category\": \"Adventure\"\n",
        "},\n",
        "{\n",
        "\"name\": \"The Help\",\n",
        "\"imdb\": 8.0,\n",
        "\"category\": \"Drama\"\n",
        "},\n",
        "{\n",
        "\"name\": \"The Choice\",\n",
        "\"imdb\": 6.2,\n",
        "\"category\": \"Romance\"\n",
        "},\n",
        "{\n",
        "\"name\": \"Colonia\",\n",
        "\"imdb\": 7.4,\n",
        "\"category\": \"Romance\"\n",
        "},\n",
        "{\n",
        "\"name\": \"Love\",\n",
        "\"imdb\": 6.0,\n",
        "\"category\": \"Romance\"\n",
        "},\n",
        "{\n",
        "\"name\": \"Bride Wars\",\n",
        "\"imdb\": 5.4,\n",
        "\"category\": \"Romance\"\n",
        "},\n",
        "{\n",
        "\"name\": \"AlphaJet\",\n",
        "\"imdb\": 3.2,\n",
        "\"category\": \"War\"\n",
        "},\n",
        "{\n",
        "\"name\": \"Ringing Crime\",\n",
        "\"imdb\": 4.0,\n",
        "\"category\": \"Crime\"\n",
        "},\n",
        "{\n",
        "\"name\": \"Joking muck\",\n",
        "\"imdb\": 7.2,\n",
        "\"category\": \"Comedy\"\n",
        "},\n",
        "{\n",
        "\"name\": \"What is the name\",\n",
        "\"imdb\": 9.2,\n",
        "\"category\": \"Suspense\"\n",
        "},\n",
        "{\n",
        "\"name\": \"Detective\",\n",
        "\"imdb\": 7.0,\n",
        "\"category\": \"Suspense\"\n",
        "},\n",
        "{\n",
        "\"name\": \"Exam\",\n",
        "\"imdb\": 4.2,\n",
        "\"category\": \"Thriller\"\n",
        "},\n",
        "{\n",
        "\"name\": \"We Two\",\n",
        "\"imdb\": 7.2,\n",
        "\"category\": \"Romance\"\n",
        "}\n",
        "]\n",
        "```\n",
        "\n",
        "1. Write a function that takes a single movie and returns `True` if its IMDB score is above 5.5\n",
        "\n",
        "2. Write a function that returns a sublist of movies with an IMDB score above 5.5.\n",
        "\n",
        "3. Write a function that takes a category name and returns just those movies under that category.\n",
        "\n",
        "4. Write a function that takes a list of movies and computes the average IMDB score.\n",
        "\n",
        "5. Write a function that takes a category and computes the average IMDB score."
      ]
    },
    {
      "attachments": {},
      "cell_type": "markdown",
      "id": "cc53a3f9",
      "metadata": {},
      "source": [
        "Movie Analyser"
      ]
    },
    {
      "cell_type": "code",
      "execution_count": 20,
      "id": "bc247ea2",
      "metadata": {},
      "outputs": [
        {
          "name": "stdout",
          "output_type": "stream",
          "text": [
            "True\n",
            "[{'name': 'Usual Suspects', 'imdb': 7.0, 'category': 'Thriller'}, {'name': 'Hitman', 'imdb': 6.3, 'category': 'Action'}, {'name': 'Dark Knight', 'imdb': 9.0, 'category': 'Adventure'}, {'name': 'The Help', 'imdb': 8.0, 'category': 'Drama'}, {'name': 'The Choice', 'imdb': 6.2, 'category': 'Romance'}, {'name': 'Colonia', 'imdb': 7.4, 'category': 'Romance'}, {'name': 'Love', 'imdb': 6.0, 'category': 'Romance'}, {'name': 'Joking muck', 'imdb': 7.2, 'category': 'Comedy'}, {'name': 'What is the name', 'imdb': 9.2, 'category': 'Suspense'}, {'name': 'Detective', 'imdb': 7.0, 'category': 'Suspense'}, {'name': 'We Two', 'imdb': 7.2, 'category': 'Romance'}]\n",
            "['The Choice', 'Colonia', 'Love', 'Bride Wars', 'We Two']\n",
            "6.486666666666667\n"
          ]
        },
        {
          "ename": "TypeError",
          "evalue": "string indices must be integers, not 'str'",
          "output_type": "error",
          "traceback": [
            "\u001b[1;31m---------------------------------------------------------------------------\u001b[0m",
            "\u001b[1;31mTypeError\u001b[0m                                 Traceback (most recent call last)",
            "Cell \u001b[1;32mIn[20], line 110\u001b[0m\n\u001b[0;32m    108\u001b[0m \u001b[39mprint\u001b[39m(movies_by_category(movies, \u001b[39m\"\u001b[39m\u001b[39mRomance\u001b[39m\u001b[39m\"\u001b[39m))\n\u001b[0;32m    109\u001b[0m \u001b[39mprint\u001b[39m(average_imdb(movies))\n\u001b[1;32m--> 110\u001b[0m \u001b[39mprint\u001b[39m(average_imdb_by_category(movies, \u001b[39m\"\u001b[39;49m\u001b[39mRomance\u001b[39;49m\u001b[39m\"\u001b[39;49m))\n",
            "Cell \u001b[1;32mIn[20], line 103\u001b[0m, in \u001b[0;36maverage_imdb_by_category\u001b[1;34m(movies, category)\u001b[0m\n\u001b[0;32m    101\u001b[0m \u001b[39mdef\u001b[39;00m \u001b[39maverage_imdb_by_category\u001b[39m(movies, category):\n\u001b[0;32m    102\u001b[0m     category_movies \u001b[39m=\u001b[39m movies_by_category(movies, category)\n\u001b[1;32m--> 103\u001b[0m     \u001b[39mreturn\u001b[39;00m average_imdb(category_movies)\n",
            "Cell \u001b[1;32mIn[20], line 97\u001b[0m, in \u001b[0;36maverage_imdb\u001b[1;34m(movies)\u001b[0m\n\u001b[0;32m     96\u001b[0m \u001b[39mdef\u001b[39;00m \u001b[39maverage_imdb\u001b[39m(movies):\n\u001b[1;32m---> 97\u001b[0m     imdb_scores \u001b[39m=\u001b[39m [movie[\u001b[39m\"\u001b[39;49m\u001b[39mimdb\u001b[39;49m\u001b[39m\"\u001b[39;49m] \u001b[39mfor\u001b[39;49;00m movie \u001b[39min\u001b[39;49;00m movies]\n\u001b[0;32m     98\u001b[0m     \u001b[39mreturn\u001b[39;00m \u001b[39msum\u001b[39m(imdb_scores) \u001b[39m/\u001b[39m \u001b[39mlen\u001b[39m(imdb_scores)\n",
            "Cell \u001b[1;32mIn[20], line 97\u001b[0m, in \u001b[0;36m<listcomp>\u001b[1;34m(.0)\u001b[0m\n\u001b[0;32m     96\u001b[0m \u001b[39mdef\u001b[39;00m \u001b[39maverage_imdb\u001b[39m(movies):\n\u001b[1;32m---> 97\u001b[0m     imdb_scores \u001b[39m=\u001b[39m [movie[\u001b[39m\"\u001b[39;49m\u001b[39mimdb\u001b[39;49m\u001b[39m\"\u001b[39;49m] \u001b[39mfor\u001b[39;00m movie \u001b[39min\u001b[39;00m movies]\n\u001b[0;32m     98\u001b[0m     \u001b[39mreturn\u001b[39;00m \u001b[39msum\u001b[39m(imdb_scores) \u001b[39m/\u001b[39m \u001b[39mlen\u001b[39m(imdb_scores)\n",
            "\u001b[1;31mTypeError\u001b[0m: string indices must be integers, not 'str'"
          ]
        }
      ],
      "source": [
        "movies = [\n",
        "    {\n",
        "        \"name\": \"Usual Suspects\",\n",
        "        \"imdb\": 7.0,\n",
        "        \"category\": \"Thriller\"\n",
        "    },\n",
        "    {\n",
        "        \"name\": \"Hitman\",\n",
        "        \"imdb\": 6.3,\n",
        "        \"category\": \"Action\"\n",
        "    },\n",
        "    {\n",
        "        \"name\": \"Dark Knight\",\n",
        "        \"imdb\": 9.0,\n",
        "        \"category\": \"Adventure\"\n",
        "    },\n",
        "    {\n",
        "        \"name\": \"The Help\",\n",
        "        \"imdb\": 8.0,\n",
        "        \"category\": \"Drama\"\n",
        "    },\n",
        "    {\n",
        "        \"name\": \"The Choice\",\n",
        "        \"imdb\": 6.2,\n",
        "        \"category\": \"Romance\"\n",
        "    },\n",
        "    {\n",
        "        \"name\": \"Colonia\",\n",
        "        \"imdb\": 7.4,\n",
        "        \"category\": \"Romance\"\n",
        "    },\n",
        "    {\n",
        "        \"name\": \"Love\",\n",
        "        \"imdb\": 6.0,\n",
        "        \"category\": \"Romance\"\n",
        "    },\n",
        "    {\n",
        "        \"name\": \"Bride Wars\",\n",
        "        \"imdb\": 5.4,\n",
        "        \"category\": \"Romance\"\n",
        "    },\n",
        "    {\n",
        "        \"name\": \"AlphaJet\",\n",
        "        \"imdb\": 3.2,\n",
        "        \"category\": \"War\"\n",
        "    },\n",
        "    {\n",
        "        \"name\": \"Ringing Crime\",\n",
        "        \"imdb\": 4.0,\n",
        "        \"category\": \"Crime\"\n",
        "    },\n",
        "    {\n",
        "        \"name\": \"Joking muck\",\n",
        "        \"imdb\": 7.2,\n",
        "        \"category\": \"Comedy\"\n",
        "    },\n",
        "    {\n",
        "        \"name\": \"What is the name\",\n",
        "        \"imdb\": 9.2,\n",
        "        \"category\": \"Suspense\"\n",
        "    },\n",
        "    {\n",
        "        \"name\": \"Detective\",\n",
        "        \"imdb\": 7.0,\n",
        "        \"category\": \"Suspense\"\n",
        "    },\n",
        "    {\n",
        "        \"name\": \"Exam\",\n",
        "        \"imdb\": 4.2,\n",
        "        \"category\": \"Thriller\"\n",
        "    },\n",
        "    {\n",
        "        \"name\": \"We Two\",\n",
        "        \"imdb\": 7.2,\n",
        "        \"category\": \"Romance\"\n",
        "    }\n",
        "]\n",
        "\n",
        "\n",
        "def is_high_imdb(movie):\n",
        "    return movie[\"imdb\"] > 5.5\n",
        "\n",
        "\n",
        "def high_imdb_movies(movies):\n",
        "    return [movie for movie in movies if movie[\"imdb\"] > 5.5]\n",
        "\n",
        "\n",
        "def movies_by_category(movies, category):\n",
        "    my_list = []\n",
        "    for i in movies:\n",
        "        if (i[\"category\"] == category):\n",
        "            my_list.append(i[\"name\"])\n",
        "    return my_list\n",
        "\n",
        "\n",
        "def average_imdb(movies):\n",
        "    imdb_scores = [movie[\"imdb\"] for movie in movies]\n",
        "    return sum(imdb_scores) / len(imdb_scores)\n",
        "\n",
        "\n",
        "def average_imdb_by_category(movies, category):\n",
        "    category_movies = movies_by_category(movies, category)\n",
        "    return average_imdb(category_movies)\n",
        "\n",
        "\n",
        "print(is_high_imdb(movies[0]))\n",
        "print(high_imdb_movies(movies))\n",
        "print(movies_by_category(movies, \"Romance\"))\n",
        "print(average_imdb(movies))\n",
        "print(average_imdb_by_category(movies, \"Romance\"))\n"
      ]
    }
  ],
  "metadata": {
    "kernelspec": {
      "display_name": "Python 3",
      "language": "python",
      "name": "python3"
    },
    "language_info": {
      "codemirror_mode": {
        "name": "ipython",
        "version": 3
      },
      "file_extension": ".py",
      "mimetype": "text/x-python",
      "name": "python",
      "nbconvert_exporter": "python",
      "pygments_lexer": "ipython3",
      "version": "3.11.1"
    },
    "vscode": {
      "interpreter": {
        "hash": "de47f5c92c0ee6f12a59a5613ac5feff6aab19ddff207ba0b3964cced08c4ccc"
      }
    }
  },
  "nbformat": 4,
  "nbformat_minor": 5
}
