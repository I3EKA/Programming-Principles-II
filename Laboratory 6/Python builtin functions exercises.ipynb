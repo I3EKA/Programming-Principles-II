{
 "cells": [
  {
   "attachments": {},
   "cell_type": "markdown",
   "metadata": {},
   "source": [
    "## Lab 6"
   ]
  },
  {
   "attachments": {},
   "cell_type": "markdown",
   "metadata": {},
   "source": [
    "## Python builtin functions exercises"
   ]
  },
  {
   "attachments": {},
   "cell_type": "markdown",
   "metadata": {},
   "source": [
    "1. Write a Python program with builtin function to multiply all the numbers in a list"
   ]
  },
  {
   "cell_type": "code",
   "execution_count": 18,
   "metadata": {},
   "outputs": [
    {
     "name": "stdout",
     "output_type": "stream",
     "text": [
      "120\n"
     ]
    }
   ],
   "source": [
    "from math import prod\n",
    "\n",
    "\n",
    "def mulitply_list(numbers):\n",
    "    return prod(numbers)\n",
    "\n",
    "\n",
    "list = [int(i) for i in input().split()]\n",
    "result = mulitply_list(list)\n",
    "print(result)\n"
   ]
  },
  {
   "attachments": {},
   "cell_type": "markdown",
   "metadata": {},
   "source": [
    "2. Write a Python program with builtin function that accepts a string and calculate the number of upper case letters and lower case letters"
   ]
  },
  {
   "cell_type": "code",
   "execution_count": 19,
   "metadata": {},
   "outputs": [
    {
     "name": "stdout",
     "output_type": "stream",
     "text": [
      "Number of uppercase letters: 3\n",
      "NUmber of lowercase letters: 3\n"
     ]
    }
   ],
   "source": [
    "def count_case_letters(string):\n",
    "    lower_count = 0\n",
    "    upper_count = 0\n",
    "    for x in string:\n",
    "        if x.islower():\n",
    "            lower_count += 1\n",
    "        elif x.isupper():\n",
    "            upper_count += 1\n",
    "    return lower_count, upper_count\n",
    "\n",
    "\n",
    "string = input()\n",
    "lower_count, upper_count = count_case_letters(string)\n",
    "print(f\"Number of uppercase letters: {upper_count}\",\n",
    "      f\"NUmber of lowercase letters: {lower_count}\", sep='\\n')\n"
   ]
  },
  {
   "attachments": {},
   "cell_type": "markdown",
   "metadata": {},
   "source": [
    "3. Write a Python program with builtin function that checks whether a passed string is palindrome or not."
   ]
  },
  {
   "cell_type": "code",
   "execution_count": 36,
   "metadata": {},
   "outputs": [
    {
     "name": "stdout",
     "output_type": "stream",
     "text": [
      "The string is no a palindrome\n"
     ]
    }
   ],
   "source": [
    "def isPalindrome(string):\n",
    "    string = ''.join(c for c in string if c.isalnum()).lower()\n",
    "    if string == ''.join(reversed(string)):\n",
    "        return \"The string is a palindrome\"\n",
    "    else:\n",
    "        return \"The string is not a palindrome\"\n",
    "\n",
    "\n",
    "string = input()\n",
    "print(isPalindrome(string))\n"
   ]
  },
  {
   "attachments": {},
   "cell_type": "markdown",
   "metadata": {},
   "source": [
    "4. Write a Python program that invoke square root function after specific milliseconds. \n",
    "    ```\n",
    "    Sample Input:\n",
    "    25100\n",
    "    2123\n",
    "    Sample Output:\n",
    "    Square root of 25100 after 2123 miliseconds is 158.42979517754858\n",
    "    ````"
   ]
  },
  {
   "cell_type": "code",
   "execution_count": 38,
   "metadata": {},
   "outputs": [
    {
     "name": "stdout",
     "output_type": "stream",
     "text": [
      "Square root of 25100 after 2123 miliseconds is 158.42979517754858\n"
     ]
    }
   ],
   "source": [
    "from time import sleep\n",
    "number = int(input(\"Enter a number to find its square root: \"))\n",
    "delay = int(input(\"Enter the number of milliseconds to delay: \"))\n",
    "delay_sec = delay/1000\n",
    "sleep(delay_sec)\n",
    "sqrt_num = pow(number, 0.5)\n",
    "print(f\"Square root of {number} after {delay} miliseconds is {sqrt_num}\")\n"
   ]
  },
  {
   "attachments": {},
   "cell_type": "markdown",
   "metadata": {},
   "source": [
    "5. Write a Python program with builtin function that returns True if all elements of the tuple are true."
   ]
  },
  {
   "cell_type": "code",
   "execution_count": 43,
   "metadata": {},
   "outputs": [
    {
     "name": "stdout",
     "output_type": "stream",
     "text": [
      "False\n",
      "True\n"
     ]
    }
   ],
   "source": [
    "def all_true_tuple(tuple):\n",
    "    return all(tuple)\n",
    "\n",
    "\n",
    "tuple_1 = (True, True, False, True)\n",
    "print(all_true_tuple(tuple_1))  # False\n",
    "tuple_2 = (True, True, True, True)\n",
    "print(all_true_tuple(tuple_2))  # True\n"
   ]
  }
 ],
 "metadata": {
  "kernelspec": {
   "display_name": "Python 3",
   "language": "python",
   "name": "python3"
  },
  "language_info": {
   "codemirror_mode": {
    "name": "ipython",
    "version": 3
   },
   "file_extension": ".py",
   "mimetype": "text/x-python",
   "name": "python",
   "nbconvert_exporter": "python",
   "pygments_lexer": "ipython3",
   "version": "3.11.1"
  },
  "orig_nbformat": 4
 },
 "nbformat": 4,
 "nbformat_minor": 2
}
